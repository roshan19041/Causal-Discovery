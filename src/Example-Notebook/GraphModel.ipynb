{
 "cells": [
  {
   "cell_type": "markdown",
   "metadata": {},
   "source": [
    "# <div style=\"text-align: center\">Causal Discovery - Examples</div>\n",
    "\n",
    "<div style=\"text-align: justify\">The following are some simple examples that try to explain the working of some of the code functionalities in this repository.</div>"
   ]
  },
  {
   "cell_type": "code",
   "execution_count": 1,
   "metadata": {},
   "outputs": [],
   "source": [
    "import numpy as np\n",
    "import pandas as pd\n",
    "import networkx as nx\n",
    "import matplotlib.pyplot as plt\n",
    "from GraphUtils import *\n",
    "from ConditionalIndependenceTest import *"
   ]
  },
  {
   "cell_type": "markdown",
   "metadata": {},
   "source": [
    "### 1. Conditional-Independence Criterion <br>\n",
    "\n",
    "<div style=\"text-align: justify\">The Conditional-Independence test applied while estimating the skeleton structure of the underlying causal model is based on Decision Tree Regressors.</div><br>\n",
    "<div style=\"text-align: justify\">It is a non-parametric, fast conditional independence test that is based on the following intuition : <br>\n",
    "    \n",
    "<i>\"For any conditioning set Z, if the combined predictive capability of X and Z to predict Y is better than the predictive capability of Z to predict Y, then X contains useful information about Y. This means that X and Y cannot be guaranteed to be conditionally independent, given Z.\" </i></div><br>\n",
    "\n",
    "<div style=\"text-align: justify\"> This test and therefore the code used to implement this test is based on the work: <b><i>\" Fast Conditional Independence Test for Vector Variables with Large Sample Sizes \"</b></i> by Krzysztof Chalupka et al.\n",
    "<a href=\"https://arxiv.org/pdf/1804.02747.pdf\"> (Link here) </a><br>"
   ]
  },
  {
   "cell_type": "code",
   "execution_count": 2,
   "metadata": {},
   "outputs": [
    {
     "name": "stdout",
     "output_type": "stream",
     "text": [
      "p-value for the null hypothesis that X and Y are conditionally independent, given Z : 5.710554720210552e-10\n",
      "Are X1 and Y1 conditionally independent, given Z ? : False\n",
      "\n",
      "\n",
      "p-value for the null hypothesis that X and Y are conditionally independent, given Z : 0.846917612957562\n",
      "Are X2 and Y2 conditionally independent, given Z ? : True\n"
     ]
    }
   ],
   "source": [
    "                    # simple examples of FCIT implemented in code #\n",
    "\n",
    "Z = np.empty((10000, 0))\n",
    "\n",
    "# X1 and Y1 are not independent\n",
    "X1 = np.random.rand(10000, 1)\n",
    "Y1 = 0.3*np.random.rand(10000, 1)+X1\n",
    "print('Are X1 and Y1 conditionally independent, given Z ? : {}'.format\\\n",
    "      (test_conditional_independence(X1, Y1, Z, verbose=True)))\n",
    "\n",
    "# X2 and Y2 are independent\n",
    "print()\n",
    "X2 = np.random.rand(10000, 1)\n",
    "Y2 = np.random.rand(10000, 1)\n",
    "print()\n",
    "print('Are X2 and Y2 conditionally independent, given Z ? : {}'.format\\\n",
    "      (test_conditional_independence(X2, Y2, Z, verbose=True)))"
   ]
  },
  {
   "cell_type": "markdown",
   "metadata": {},
   "source": [
    "<b>NOTE</b>: <i>For more details about the specific test-related p-values, please refer the code.</i>"
   ]
  },
  {
   "cell_type": "markdown",
   "metadata": {},
   "source": [
    "### 2. Causal structure Learning<br>\n",
    "<div style=\"text-align: justify\">The procedure for structure learning is as follows: </div>\n",
    "<ul>\n",
    "    <li>The skeleton is estimated as in the stable PC-algorithm, by applying the Fast Conditional-Independence Test (described above) as the Independence Criterion.</li>\n",
    "    <li>The undirected edges in the skeleton graph are then oriented based on the following logic : For any two nodes X and Y, with an undirected edge between them, in the skeletal graph, if score = A(regression:Y=f(X)) - A(regression:X=f(Y)) > 0, then, on average, Y contains relatively more information useful for predicting X. Therefore, the edge is oriented Y-->X and X-->Y otherwise. Each edge has a weight = mean(scores) <br> <b>NOTE</b>: 'A' is the accuracy of a regression model and the score is computed for several repeated runs and then averaged. </li>\n",
    "    <li>The cycles in the Directed Graph are then removed based on the heuristic : For any cycle in the graph, the edge with the lowest weight is reversed and if possible, removed.\n",
    "    </li>\n",
    "</ul>\n",
    "Finally, the algorithm outputs a Directed Acyclic Graph representing the Causal Model of the observational data. \n",
    "\n",
    "<b>IMPORTANT NOTES</b> : <i>As with any Causal Discovery algorithms, this algorithm must be treated as a first-step to causal discovery as opposed to a complete, and fully reliable causal inference method.</i>"
   ]
  },
  {
   "cell_type": "code",
   "execution_count": 5,
   "metadata": {},
   "outputs": [
    {
     "data": {
      "image/png": "[encoded data removed]",
      "text/plain": [
       "<Figure size 432x288 with 1 Axes>"
      ]
     },
     "metadata": {},
     "output_type": "display_data"
    }
   ],
   "source": [
    "# EXAMPLE OBSERVATIONAL DATA WITH CONDITIONAL DEPENDENCIES AMONG FEATURES\n",
    "data = np.zeros(shape=(10000, 8))\n",
    "data[:, 0] = np.random.normal(loc=10.0, scale=5.0, size=10000)\n",
    "data[:, 1] = np.random.normal(loc=1.0, scale=2.0, size=10000)\n",
    "data[:, 2] = np.random.gamma(2, 0.65, 10000)\n",
    "data[:, 3] = data[:, 1] + data[:, 2]\n",
    "data[:, 4] = np.random.beta(0.8, 0.65, 10000)\n",
    "data[:, 5] = np.random.beta(0.1, 0.05, 10000)\n",
    "data[:, 6] = data[:, 1] * data[:, 4] - data[:, 5]\n",
    "data[:, 7] = data[:, 0]\n",
    "data = pd.DataFrame(data, columns=['0', '1', '2', '3', '4', '5', '6', '7'])\n",
    "causal_graph = infer_DAG(data, orientation_model='Tree')\n",
    "nx.draw(causal_graph, with_labels=True)\n",
    "plt.show()"
   ]
  },
  {
   "cell_type": "code",
   "execution_count": 6,
   "metadata": {},
   "outputs": [
    {
     "data": {
      "image/png": "[encoded data removed]",
      "text/plain": [
       "<Figure size 432x288 with 1 Axes>"
      ]
     },
     "metadata": {},
     "output_type": "display_data"
    }
   ],
   "source": [
    "# EXAMPLE OBSERVATIONAL DATA WITHOUT ANY (CONDITIONAL) DEPENDENCIES AMONG FEATURES\n",
    "data = np.zeros(shape=(10000, 3))\n",
    "data[:, 0] = np.random.normal(loc=10.0, scale=5.0, size=10000)\n",
    "data[:, 1] = np.random.beta(0.01, 0.9, size=10000)\n",
    "data[:, 2] = np.random.gamma(2, 0.65, 10000)\n",
    "data = pd.DataFrame(data, columns=['0', '1', '2'])\n",
    "causal_graph = infer_DAG(data, orientation_model='Tree')\n",
    "nx.draw(causal_graph, with_labels=True)\n",
    "plt.show()"
   ]
  },
  {
   "cell_type": "markdown",
   "metadata": {},
   "source": [
    "<div style=\"text-align: justify\"> The algorithm further builds a collection of Deep Neural Networks on a learned Causal Graphical Model. Each node has a corresponding Neural Network as a function approximator for the function X = f(Noise, Parents(X)). Hence, the input to any node is now a function of the outputs of the Neural Networks of it's parent nodes and some random noise. The result is a Data Generation Mechanism that exploits a Causal Structure to model interventions. The Network will be trained by generating data and updating the weights based on the gradients of the Max-Mean Discrepancy between observed data and generated data. Due to computational reasons, such a network has not been included in this notebook. However, code implementation in tensorflow is available in this repository.</div><br>\n",
    " \n",
    "<div style=\"text-align: justify\"> How to model interventions? <br>\n",
    "    \n",
    "   Well, for any <i>do-Variable</i>, the corresponding node-neural-network in the graph is shut down and then generated data can be analyzed to observe how the joint distribution of other variables change.</div><br>\n",
    "  \n",
    "<div style=\"text-align: justify\"> This collective Neural Network is based on the research paper : <b><i>\"Learning Functional Causal Models with Generative Neural Networks\"</b></i> by Diviyan Kalainathan et al. <a href=\"https://arxiv.org/pdf/1709.05321.pdf\"> (Link here) </a><br></div><br>"
   ]
  }
 ],
 "metadata": {
  "kernelspec": {
   "display_name": "Python 3",
   "language": "python",
   "name": "python3"
  },
  "language_info": {
   "codemirror_mode": {
    "name": "ipython",
    "version": 3
   },
   "file_extension": ".py",
   "mimetype": "text/x-python",
   "name": "python",
   "nbconvert_exporter": "python",
   "pygments_lexer": "ipython3",
   "version": "3.7.1"
  }
 },
 "nbformat": 4,
 "nbformat_minor": 2
}
